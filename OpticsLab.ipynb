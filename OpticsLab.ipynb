{
 "cells": [
  {
   "cell_type": "code",
   "execution_count": 6,
   "id": "ad063f63-efcb-4e5f-84d7-d3e5079de226",
   "metadata": {},
   "outputs": [],
   "source": [
    "using Plots\n",
    "gr()\n",
    "using LaTeXStrings"
   ]
  },
  {
   "cell_type": "code",
   "execution_count": 18,
   "id": "b4d4047e-9258-4772-95bc-d0c50695b791",
   "metadata": {},
   "outputs": [
    {
     "data": {
      "text/plain": [
       "95.09433962264151"
      ]
     },
     "execution_count": 18,
     "metadata": {},
     "output_type": "execute_result"
    }
   ],
   "source": [
    "aoverL = (18/10000)/132.5\n",
    "\n",
    "xoverm = 9.1/13 #cm\n",
    "\n",
    "y = aoverL*xoverm*10000000 #nm"
   ]
  },
  {
   "cell_type": "code",
   "execution_count": 19,
   "id": "9b38dfcb-955a-4982-a935-915648edbe9d",
   "metadata": {},
   "outputs": [
    {
     "data": {
      "text/plain": [
       "116.98113207547169"
      ]
     },
     "execution_count": 19,
     "metadata": {},
     "output_type": "execute_result"
    }
   ],
   "source": [
    "aoverL = (10/10000)/132.5\n",
    "\n",
    "xoverm = 9.3/6 #cm\n",
    "\n",
    "y = aoverL*xoverm*10000000 #nm"
   ]
  },
  {
   "cell_type": "code",
   "execution_count": 20,
   "id": "f9caa39a-7b21-46dd-9bf9-2ef6feb0e6cf",
   "metadata": {},
   "outputs": [
    {
     "data": {
      "text/plain": [
       "89.62264150943396"
      ]
     },
     "execution_count": 20,
     "metadata": {},
     "output_type": "execute_result"
    }
   ],
   "source": [
    "aoverL = (25/10000)/132.5\n",
    "\n",
    "xoverm = 9.5/20 #cm\n",
    "\n",
    "y = aoverL*xoverm*10000000 #nm"
   ]
  },
  {
   "cell_type": "code",
   "execution_count": null,
   "id": "ea825029-039f-45b4-8e09-0cfb9b5e8f5b",
   "metadata": {},
   "outputs": [],
   "source": []
  }
 ],
 "metadata": {
  "kernelspec": {
   "display_name": "Julia 1.7.2",
   "language": "julia",
   "name": "julia-1.7"
  },
  "language_info": {
   "file_extension": ".jl",
   "mimetype": "application/julia",
   "name": "julia",
   "version": "1.7.2"
  }
 },
 "nbformat": 4,
 "nbformat_minor": 5
}
